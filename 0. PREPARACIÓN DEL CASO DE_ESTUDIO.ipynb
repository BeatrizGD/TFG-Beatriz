{
  "nbformat": 4,
  "nbformat_minor": 0,
  "metadata": {
    "colab": {
      "provenance": []
    },
    "kernelspec": {
      "name": "python3",
      "display_name": "Python 3"
    },
    "language_info": {
      "name": "python"
    }
  },
  "cells": [
    {
      "cell_type": "markdown",
      "source": [
        "# **DESARROLLO DE MEDICAMENTOS EMPLEANDO INTELIGENCIA ARTIFICIAL**"
      ],
      "metadata": {
        "id": "iVq0lROwBIPx"
      }
    },
    {
      "cell_type": "markdown",
      "source": [
        " GRADO EN INGENIERÍA DE LA SALUD - *Trabajo Fin de Grado* \n",
        "\n",
        "Realizado por: *Beatriz García Dueñas* \n",
        "\n",
        "Tutor: *Juan Antonio Nepomuceno Chamorro*\n",
        "\n",
        "Departamento: Lenguajes y Sistemas Informáticos\n"
      ],
      "metadata": {
        "id": "LxjIDy4BBRHA"
      }
    },
    {
      "cell_type": "markdown",
      "source": [
        "## **PREPARACIÓN DEL CASO PRÁCTICO**"
      ],
      "metadata": {
        "id": "aMm2yViua-w9"
      }
    },
    {
      "cell_type": "markdown",
      "source": [
        "  Antes de comenzar a desarrollar el problema planteado anteriormente, son necesarios una serie de requisitos previos para llevar a cabo el objetivo de este caso práctico. Será necesaria tanto una versión actualizada de Python, como un entorno de programación en el que podamos desarrollar nuestro código y una serie de herramientas (librerías) que nos proporcionarán las funciones necesarias para obtener los resultados deseados.\n"
      ],
      "metadata": {
        "id": "kjd7ZnzKa-zK"
      }
    },
    {
      "cell_type": "markdown",
      "source": [
        "Inicialmente, se presupone la instalación de una versión adecuada y actualizada  de Python. Se recomienda tener de la versión 3.6 en adelante. La última actualización de Python consta de agosto de 2022 y es la versión 3.11.0. Para ver cuál de ellas tiene instalada, bastará con ejecutar el siguiente código en la consola del sistema:"
      ],
      "metadata": {
        "id": "77MpHZGZa-1a"
      }
    },
    {
      "cell_type": "markdown",
      "source": [
        "    Python --version"
      ],
      "metadata": {
        "id": "Uh0SqbE5bFkx"
      }
    },
    {
      "cell_type": "markdown",
      "source": [
        "### **PASO 1 : IDE PYTHON**"
      ],
      "metadata": {
        "id": "qoQ4-157bFnH"
      }
    },
    {
      "cell_type": "markdown",
      "source": [
        "En primer lugar, es necesario un entorno de programación en el que podamos ejecutar todo el código python que llevará a cabo  el entrenamiento de modelos capaces de generar nuevas moléculas."
      ],
      "metadata": {
        "id": "HbSrK3-6bFp9"
      }
    },
    {
      "cell_type": "markdown",
      "source": [
        " Hay una gran cantidad de posibilidades hoy en día de forma gratuita. Sin embargo, el entorno de programación escogido es Colaboratory o “Colab” un entorno creado para desarrollar software de código abierto en el navegador. Google Colab es un producto de Google Research y permite recoger en un documento el código empleado y texto descriptivo que ayudará a seguir mejor los diferentes pasos. "
      ],
      "metadata": {
        "id": "-Yo1oka4bV7O"
      }
    },
    {
      "cell_type": "markdown",
      "source": [
        "Se trata de un entorno de programación donde se realiza el código desde el navegador, por tanto, no será necesario ninguna descarga de programas. Además, tiene la ventaja de poder ser compartido a otros usuarios fácilmente. "
      ],
      "metadata": {
        "id": "ewwo7slwbV9z"
      }
    },
    {
      "cell_type": "markdown",
      "source": [
        "Los Notebook generados son cuadernos Jupyter alojados en Colab. Tienen la posibilidad de ser descargados con la extensión .ipynb"
      ],
      "metadata": {
        "id": "qSkNI_PobWAl"
      }
    },
    {
      "cell_type": "markdown",
      "source": [
        "### **PASO 2 : LIBRERÍA DEEPCHEM**"
      ],
      "metadata": {
        "id": "2kCwWPemGPmD"
      }
    },
    {
      "cell_type": "markdown",
      "source": [
        "Una vez tenemos nuestro entorno de programación Python procedemos a la instalación de DeepChem, la librería con la que trabajaremos durante toda la parte de experimentación. Para ello, \n"
      ],
      "metadata": {
        "id": "wfch72-hGWey"
      }
    },
    {
      "cell_type": "code",
      "source": [
        "!pip install --pre deepchem\n",
        "import deepchem\n",
        "deepchem.__version__"
      ],
      "metadata": {
        "colab": {
          "base_uri": "https://localhost:8080/",
          "height": 475
        },
        "id": "q2-2XXZ6GgAb",
        "outputId": "2d71f010-ad6d-4729-c887-c3da510531b4"
      },
      "execution_count": null,
      "outputs": [
        {
          "output_type": "stream",
          "name": "stdout",
          "text": [
            "Looking in indexes: https://pypi.org/simple, https://us-python.pkg.dev/colab-wheels/public/simple/\n",
            "Collecting deepchem\n",
            "  Downloading deepchem-2.6.2.dev20221116163918-py3-none-any.whl (693 kB)\n",
            "\u001b[K     |████████████████████████████████| 693 kB 4.2 MB/s \n",
            "\u001b[?25hRequirement already satisfied: pandas in /usr/local/lib/python3.7/dist-packages (from deepchem) (1.3.5)\n",
            "Collecting rdkit\n",
            "  Downloading rdkit-2022.9.1-cp37-cp37m-manylinux_2_17_x86_64.manylinux2014_x86_64.whl (29.5 MB)\n",
            "\u001b[K     |████████████████████████████████| 29.5 MB 1.9 MB/s \n",
            "\u001b[?25hRequirement already satisfied: scikit-learn in /usr/local/lib/python3.7/dist-packages (from deepchem) (1.0.2)\n",
            "Requirement already satisfied: joblib in /usr/local/lib/python3.7/dist-packages (from deepchem) (1.2.0)\n",
            "Requirement already satisfied: scipy<1.9 in /usr/local/lib/python3.7/dist-packages (from deepchem) (1.7.3)\n",
            "Requirement already satisfied: numpy>=1.21 in /usr/local/lib/python3.7/dist-packages (from deepchem) (1.21.6)\n",
            "Requirement already satisfied: pytz>=2017.3 in /usr/local/lib/python3.7/dist-packages (from pandas->deepchem) (2022.6)\n",
            "Requirement already satisfied: python-dateutil>=2.7.3 in /usr/local/lib/python3.7/dist-packages (from pandas->deepchem) (2.8.2)\n",
            "Requirement already satisfied: six>=1.5 in /usr/local/lib/python3.7/dist-packages (from python-dateutil>=2.7.3->pandas->deepchem) (1.15.0)\n",
            "Requirement already satisfied: Pillow in /usr/local/lib/python3.7/dist-packages (from rdkit->deepchem) (7.1.2)\n",
            "Requirement already satisfied: threadpoolctl>=2.0.0 in /usr/local/lib/python3.7/dist-packages (from scikit-learn->deepchem) (3.1.0)\n",
            "Installing collected packages: rdkit, deepchem\n",
            "Successfully installed deepchem-2.6.2.dev20221116163918 rdkit-2022.9.1\n"
          ]
        },
        {
          "output_type": "stream",
          "name": "stderr",
          "text": [
            "WARNING:deepchem.models.torch_models:Skipped loading modules with pytorch-geometric dependency, missing a dependency. No module named 'torch_geometric'\n",
            "WARNING:deepchem.models:Skipped loading modules with pytorch-geometric dependency, missing a dependency. cannot import name 'DMPNN' from 'deepchem.models.torch_models' (/usr/local/lib/python3.7/dist-packages/deepchem/models/torch_models/__init__.py)\n",
            "WARNING:deepchem.models:Skipped loading modules with pytorch-lightning dependency, missing a dependency. No module named 'pytorch_lightning'\n",
            "WARNING:deepchem.models:Skipped loading some Jax models, missing a dependency. No module named 'haiku'\n"
          ]
        },
        {
          "output_type": "execute_result",
          "data": {
            "text/plain": [
              "'2.6.2.dev'"
            ],
            "application/vnd.google.colaboratory.intrinsic+json": {
              "type": "string"
            }
          },
          "metadata": {},
          "execution_count": 2
        }
      ]
    },
    {
      "cell_type": "markdown",
      "source": [
        "Una forma de asegurarnos que la instalación se ha completado con éxito es importar la librería en el Notebook de Pyhton:"
      ],
      "metadata": {
        "id": "xTu5XGTYGbPt"
      }
    },
    {
      "cell_type": "code",
      "source": [
        "import deepchem as dc"
      ],
      "metadata": {
        "id": "tvOjqXlhG3Wx"
      },
      "execution_count": null,
      "outputs": []
    },
    {
      "cell_type": "markdown",
      "source": [
        "Ahora sí, contamos con todos los requisitos previos para poder llevar a cabo el problema que nos ocupa."
      ],
      "metadata": {
        "id": "awGCQ3mYGb0J"
      }
    },
    {
      "cell_type": "markdown",
      "source": [
        "### **PASO 3 : OTROS PAQUETES**"
      ],
      "metadata": {
        "id": "SW2B9hz-IdYS"
      }
    },
    {
      "cell_type": "markdown",
      "source": [
        "DeepChem utiliza otros marcos en los que apoyarse como puede ser Scikit-learn o TensorFlow. Por esta razón, hay que asegurarse previamente de haber instalado e importado correctamente los paquetes necesarios, ya que éstos complementan las funciones de la librería descrita anteriormente. De esta manera, podremos obtener el máximo beneficio a la hora de emplear las técnicas de Deep Learning."
      ],
      "metadata": {
        "id": "PiQLhmlRGbSK"
      }
    },
    {
      "cell_type": "markdown",
      "source": [
        "Los paquetes y sus correspondientes instalaciones son los siguientes:\n",
        "- joblib\n",
        "- NumPy\n",
        "- pandas\n",
        "- scikit-learn\n",
        "- SciPy\n",
        "- TensorFlow"
      ],
      "metadata": {
        "id": "f-DubnMjIuki"
      }
    },
    {
      "cell_type": "code",
      "source": [
        "''' INSTALACIÓN E IMPORTACIÓN DE PAQUETES'''\n",
        "\n",
        "#pip install joblib\n",
        "#pip install numpy\n",
        "#pip install pandas\n",
        "#pip install -U scikit-learn\n",
        "#pip install scipy\n",
        "#pip install tensorflow\n",
        "\n",
        "import joblib\n",
        "import numpy as np\n",
        "import pandas\n",
        "import sklearn\n",
        "import scipy\n",
        "import tensorflow as tf"
      ],
      "metadata": {
        "id": "qvnFO8WlIveT"
      },
      "execution_count": 8,
      "outputs": []
    }
  ]
}
